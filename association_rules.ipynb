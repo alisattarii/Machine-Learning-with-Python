{
 "cells": [
  {
   "cell_type": "code",
   "execution_count": 1,
   "id": "174f860e",
   "metadata": {},
   "outputs": [
    {
     "data": {
      "text/html": [
       "<div>\n",
       "<style scoped>\n",
       "    .dataframe tbody tr th:only-of-type {\n",
       "        vertical-align: middle;\n",
       "    }\n",
       "\n",
       "    .dataframe tbody tr th {\n",
       "        vertical-align: top;\n",
       "    }\n",
       "\n",
       "    .dataframe thead th {\n",
       "        text-align: right;\n",
       "    }\n",
       "</style>\n",
       "<table border=\"1\" class=\"dataframe\">\n",
       "  <thead>\n",
       "    <tr style=\"text-align: right;\">\n",
       "      <th></th>\n",
       "      <th>Bread</th>\n",
       "      <th>Milk</th>\n",
       "      <th>Eggs</th>\n",
       "      <th>Butter</th>\n",
       "      <th>Cheese</th>\n",
       "    </tr>\n",
       "  </thead>\n",
       "  <tbody>\n",
       "    <tr>\n",
       "      <th>0</th>\n",
       "      <td>0</td>\n",
       "      <td>0</td>\n",
       "      <td>1</td>\n",
       "      <td>0</td>\n",
       "      <td>0</td>\n",
       "    </tr>\n",
       "    <tr>\n",
       "      <th>1</th>\n",
       "      <td>1</td>\n",
       "      <td>1</td>\n",
       "      <td>0</td>\n",
       "      <td>0</td>\n",
       "      <td>1</td>\n",
       "    </tr>\n",
       "    <tr>\n",
       "      <th>2</th>\n",
       "      <td>1</td>\n",
       "      <td>1</td>\n",
       "      <td>0</td>\n",
       "      <td>0</td>\n",
       "      <td>1</td>\n",
       "    </tr>\n",
       "    <tr>\n",
       "      <th>3</th>\n",
       "      <td>1</td>\n",
       "      <td>1</td>\n",
       "      <td>1</td>\n",
       "      <td>1</td>\n",
       "      <td>1</td>\n",
       "    </tr>\n",
       "    <tr>\n",
       "      <th>4</th>\n",
       "      <td>0</td>\n",
       "      <td>1</td>\n",
       "      <td>1</td>\n",
       "      <td>1</td>\n",
       "      <td>0</td>\n",
       "    </tr>\n",
       "  </tbody>\n",
       "</table>\n",
       "</div>"
      ],
      "text/plain": [
       "   Bread  Milk  Eggs  Butter  Cheese\n",
       "0      0     0     1       0       0\n",
       "1      1     1     0       0       1\n",
       "2      1     1     0       0       1\n",
       "3      1     1     1       1       1\n",
       "4      0     1     1       1       0"
      ]
     },
     "execution_count": 1,
     "metadata": {},
     "output_type": "execute_result"
    }
   ],
   "source": [
    "import pandas as pd\n",
    "import numpy as np\n",
    "from mlxtend.frequent_patterns import apriori, association_rules\n",
    "\n",
    "\n",
    "df = pd.read_csv('market_basket.csv')\n",
    "df.head()"
   ]
  },
  {
   "cell_type": "code",
   "execution_count": 2,
   "id": "efaa9262",
   "metadata": {},
   "outputs": [
    {
     "name": "stdout",
     "output_type": "stream",
     "text": [
      "\n",
      "=== مجموعه‌های مکرر (Frequent Itemsets) ===\n",
      "این جدول نشان‌دهنده آیتم‌هایی است که به‌طور مکرر با هم خریداری شده‌اند:\n",
      "    support         itemsets\n",
      "0      0.54          (Bread)\n",
      "1      0.68           (Milk)\n",
      "2      0.58           (Eggs)\n",
      "3      0.42         (Butter)\n",
      "4      0.52         (Cheese)\n",
      "5      0.37    (Bread, Milk)\n",
      "6      0.30    (Eggs, Bread)\n",
      "7      0.30  (Bread, Cheese)\n",
      "8      0.36     (Eggs, Milk)\n",
      "9      0.34   (Milk, Cheese)\n",
      "10     0.31   (Eggs, Cheese)\n"
     ]
    },
    {
     "name": "stderr",
     "output_type": "stream",
     "text": [
      "c:\\Users\\Lenovo\\AppData\\Local\\Programs\\Python\\Python312\\Lib\\site-packages\\mlxtend\\frequent_patterns\\fpcommon.py:161: DeprecationWarning: DataFrames with non-bool types result in worse computationalperformance and their support might be discontinued in the future.Please use a DataFrame with bool type\n",
      "  warnings.warn(\n"
     ]
    }
   ],
   "source": [
    "# اجرای الگوریتم Apriori\n",
    "# min_support: حداقل پشتیبانی (مثلاً 0.3 یعنی آیتم باید در حداقل 30% تراکنش‌ها باشد)\n",
    "frequent_itemsets = apriori(df, min_support=0.3, use_colnames=True)\n",
    "print(\"\\n=== مجموعه‌های مکرر (Frequent Itemsets) ===\")\n",
    "print(\"این جدول نشان‌دهنده آیتم‌هایی است که به‌طور مکرر با هم خریداری شده‌اند:\")\n",
    "print(frequent_itemsets)"
   ]
  },
  {
   "cell_type": "code",
   "execution_count": 3,
   "id": "0f02cb11",
   "metadata": {},
   "outputs": [
    {
     "name": "stdout",
     "output_type": "stream",
     "text": [
      "\n",
      "=== قوانین انجمنی ===\n",
      "   antecedents consequents  support  confidence      lift\n",
      "0      (Bread)      (Milk)     0.37    0.685185  1.007625\n",
      "1       (Milk)     (Bread)     0.37    0.544118  1.007625\n",
      "2       (Eggs)     (Bread)     0.30    0.517241  0.957854\n",
      "3      (Bread)      (Eggs)     0.30    0.555556  0.957854\n",
      "4      (Bread)    (Cheese)     0.30    0.555556  1.068376\n",
      "5     (Cheese)     (Bread)     0.30    0.576923  1.068376\n",
      "6       (Eggs)      (Milk)     0.36    0.620690  0.912779\n",
      "7       (Milk)      (Eggs)     0.36    0.529412  0.912779\n",
      "8       (Milk)    (Cheese)     0.34    0.500000  0.961538\n",
      "9     (Cheese)      (Milk)     0.34    0.653846  0.961538\n",
      "10      (Eggs)    (Cheese)     0.31    0.534483  1.027851\n",
      "11    (Cheese)      (Eggs)     0.31    0.596154  1.027851\n"
     ]
    }
   ],
   "source": [
    "# 3. تولید قوانین انجمنی\n",
    "# min_threshold: حداقل اطمینان (مثلاً 0.5 یعنی قانون باید حداقل 50% قابل اعتماد باشد)\n",
    "rules = association_rules(frequent_itemsets, metric=\"confidence\", min_threshold=0.5)\n",
    "print(\"\\n=== قوانین انجمنی ===\")\n",
    "print(rules[['antecedents', 'consequents', 'support', 'confidence', 'lift']])\n"
   ]
  },
  {
   "cell_type": "code",
   "execution_count": 4,
   "id": "2f312500",
   "metadata": {},
   "outputs": [
    {
     "name": "stdout",
     "output_type": "stream",
     "text": [
      "\n",
      "=== قوانین برتر (مرتب‌شده بر اساس Lift) ===\n",
      "   antecedents consequents  support  confidence      lift\n",
      "5     (Cheese)     (Bread)     0.30    0.576923  1.068376\n",
      "4      (Bread)    (Cheese)     0.30    0.555556  1.068376\n",
      "11    (Cheese)      (Eggs)     0.31    0.596154  1.027851\n",
      "10      (Eggs)    (Cheese)     0.31    0.534483  1.027851\n",
      "1       (Milk)     (Bread)     0.37    0.544118  1.007625\n"
     ]
    }
   ],
   "source": [
    "# 4. توضیح معیارها\n",
    "# پشتیبانی (Support): درصد تراکنش‌هایی که شامل یک مجموعه آیتم خاص هستند.\n",
    "# اطمینان (Confidence): احتمال خرید آیتم‌های نتیجه (consequent) با فرض خرید آیتم‌های مقدم (antecedent).\n",
    "# رشد (Lift): نشان‌دهنده قدرت قانون؛ اگر Lift > 1، قانون قوی‌تر از انتظار است.\n",
    "\n",
    "# مثال: نمایش چند قانون برتر بر اساس Lift\n",
    "print(\"\\n=== قوانین برتر (مرتب‌شده بر اساس Lift) ===\")\n",
    "print(rules.sort_values('lift', ascending=False)[['antecedents', 'consequents', 'support', 'confidence', 'lift']].head())"
   ]
  },
  {
   "cell_type": "code",
   "execution_count": 5,
   "id": "4b2346fd",
   "metadata": {},
   "outputs": [
    {
     "name": "stdout",
     "output_type": "stream",
     "text": [
      "\n",
      "=== کاربردها ===\n",
      "- تحلیل سبد خرید: پیشنهاد محصولات مرتبط (مثلاً اگر مشتری نان بخرد، کره پیشنهاد شود).\n",
      "- بازاریابی: طراحی تخفیف‌ها یا بسته‌های محصولی بر اساس قوانین انجمنی.\n",
      "مثال: اگر قانون {Bread, Milk} → {Butter} قوی باشد، می‌توان بسته تخفیفی برای این محصولات طراحی کرد.\n",
      "\n",
      "=== قوانین انجمنی  ===\n",
      "قانون 1: اگر Bread خریداری شود، احتمالاً Milk خریداری می‌شود.\n",
      "  پشتیبانی: 0.370, اطمینان: 0.685, رشد: 1.008\n",
      "قانون 2: اگر Milk خریداری شود، احتمالاً Bread خریداری می‌شود.\n",
      "  پشتیبانی: 0.370, اطمینان: 0.544, رشد: 1.008\n",
      "قانون 3: اگر Eggs خریداری شود، احتمالاً Bread خریداری می‌شود.\n",
      "  پشتیبانی: 0.300, اطمینان: 0.517, رشد: 0.958\n",
      "قانون 4: اگر Bread خریداری شود، احتمالاً Eggs خریداری می‌شود.\n",
      "  پشتیبانی: 0.300, اطمینان: 0.556, رشد: 0.958\n",
      "قانون 5: اگر Bread خریداری شود، احتمالاً Cheese خریداری می‌شود.\n",
      "  پشتیبانی: 0.300, اطمینان: 0.556, رشد: 1.068\n",
      "قانون 6: اگر Cheese خریداری شود، احتمالاً Bread خریداری می‌شود.\n",
      "  پشتیبانی: 0.300, اطمینان: 0.577, رشد: 1.068\n",
      "قانون 7: اگر Eggs خریداری شود، احتمالاً Milk خریداری می‌شود.\n",
      "  پشتیبانی: 0.360, اطمینان: 0.621, رشد: 0.913\n",
      "قانون 8: اگر Milk خریداری شود، احتمالاً Eggs خریداری می‌شود.\n",
      "  پشتیبانی: 0.360, اطمینان: 0.529, رشد: 0.913\n",
      "قانون 9: اگر Milk خریداری شود، احتمالاً Cheese خریداری می‌شود.\n",
      "  پشتیبانی: 0.340, اطمینان: 0.500, رشد: 0.962\n",
      "قانون 10: اگر Cheese خریداری شود، احتمالاً Milk خریداری می‌شود.\n",
      "  پشتیبانی: 0.340, اطمینان: 0.654, رشد: 0.962\n",
      "قانون 11: اگر Eggs خریداری شود، احتمالاً Cheese خریداری می‌شود.\n",
      "  پشتیبانی: 0.310, اطمینان: 0.534, رشد: 1.028\n",
      "قانون 12: اگر Cheese خریداری شود، احتمالاً Eggs خریداری می‌شود.\n",
      "  پشتیبانی: 0.310, اطمینان: 0.596, رشد: 1.028\n"
     ]
    }
   ],
   "source": [
    "# 5. کاربردها در تحلیل سبد خرید و بازاریابی\n",
    "print(\"\\n=== کاربردها ===\")\n",
    "print(\"- تحلیل سبد خرید: پیشنهاد محصولات مرتبط (مثلاً اگر مشتری نان بخرد، کره پیشنهاد شود).\")\n",
    "print(\"- بازاریابی: طراحی تخفیف‌ها یا بسته‌های محصولی بر اساس قوانین انجمنی.\")\n",
    "print(\"مثال: اگر قانون {Bread, Milk} → {Butter} قوی باشد، می‌توان بسته تخفیفی برای این محصولات طراحی کرد.\")\n",
    "\n",
    "# نمایش قوانین به‌صورت خواناتر\n",
    "print(\"\\n=== قوانین انجمنی  ===\")\n",
    "for idx, rule in rules.iterrows():\n",
    "    antecedents = ', '.join(list(rule['antecedents']))\n",
    "    consequents = ', '.join(list(rule['consequents']))\n",
    "    print(f\"قانون {idx+1}: اگر {antecedents} خریداری شود، احتمالاً {consequents} خریداری می‌شود.\")\n",
    "    print(f\"  پشتیبانی: {rule['support']:.3f}, اطمینان: {rule['confidence']:.3f}, رشد: {rule['lift']:.3f}\")"
   ]
  },
  {
   "cell_type": "code",
   "execution_count": null,
   "id": "5e3529dc",
   "metadata": {},
   "outputs": [],
   "source": []
  }
 ],
 "metadata": {
  "kernelspec": {
   "display_name": "Python 3",
   "language": "python",
   "name": "python3"
  },
  "language_info": {
   "codemirror_mode": {
    "name": "ipython",
    "version": 3
   },
   "file_extension": ".py",
   "mimetype": "text/x-python",
   "name": "python",
   "nbconvert_exporter": "python",
   "pygments_lexer": "ipython3",
   "version": "3.12.5"
  }
 },
 "nbformat": 4,
 "nbformat_minor": 5
}
